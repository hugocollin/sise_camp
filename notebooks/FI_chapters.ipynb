{
 "cells": [
  {
   "cell_type": "markdown",
   "metadata": {},
   "source": [
    "# Chargement des données depuis la BDD"
   ]
  },
  {
   "cell_type": "code",
   "execution_count": 5,
   "metadata": {},
   "outputs": [],
   "source": [
    "import sqlite3\n",
    "\n",
    "#Connection à la base de données\n",
    "conn = sqlite3.connect('../src/videos_youtube.db')\n",
    "cursor = conn.cursor()\n",
    "\n",
    "# Charger l'url\n",
    "cursor.execute(f\"SELECT id, video_id, subtitle FROM video_chapters\")\n",
    "results = cursor.fetchall()\n",
    "\n",
    "# Fermer la connexion à la base de données\n",
    "conn.close()"
   ]
  },
  {
   "cell_type": "markdown",
   "metadata": {},
   "source": [
    "# Embeddings des chapitres"
   ]
  },
  {
   "cell_type": "code",
   "execution_count": null,
   "metadata": {},
   "outputs": [],
   "source": [
    "from mistralai import Mistral\n",
    "\n",
    "api_key = \"\"\n",
    "\n",
    "# Initialiser le client Mistral\n",
    "client = Mistral(api_key=api_key)\n",
    "\n",
    "def generate_embedding(text : str):\n",
    "    \"\"\"Génère un embedding\"\"\"\n",
    "    # Spécifier le modèle d'embedding\n",
    "    model = \"mistral-embed\"\n",
    "\n",
    "    # Appeler l'API pour générer les embeddings\n",
    "    response = client.embeddings.create(\n",
    "        model=model,\n",
    "        inputs=[text]\n",
    "    )\n",
    "\n",
    "    # Extraire les embeddings de la réponse\n",
    "    prompt_embedding = response.data[0].embedding\n",
    "    return prompt_embedding"
   ]
  },
  {
   "cell_type": "code",
   "execution_count": 22,
   "metadata": {},
   "outputs": [],
   "source": [
    "import time\n",
    "\n",
    "# Extraire uniquement les titres (le troisième élément de chaque tuple)\n",
    "chapters = [chap for _, _, chap in results]\n",
    "\n",
    "chap_embed = []\n",
    "\n",
    "for chap in chapters:\n",
    "    chap_embed.append(generate_embedding(chap))\n",
    "    time.sleep(2)\n"
   ]
  },
  {
   "cell_type": "code",
   "execution_count": 25,
   "metadata": {},
   "outputs": [],
   "source": [
    "#Sauvegarde des embeddings\n",
    "import json\n",
    "with open('chap_embeddings.json', 'w') as f:\n",
    "    json.dump(chap_embed, f)"
   ]
  },
  {
   "cell_type": "markdown",
   "metadata": {},
   "source": [
    "# Création de l'index Faiss pour les chapitres "
   ]
  },
  {
   "cell_type": "code",
   "execution_count": 7,
   "metadata": {},
   "outputs": [],
   "source": [
    "import faiss\n",
    "import numpy as np\n",
    "\n",
    "#Générer la liste des nouveaux IDs\n",
    "new_ids = [f\"{grp:02}{id_:03}\" for id_, grp, _ in results]\n",
    "\n",
    "#Définir la dimension des vecteurs \n",
    "dimension = 1024\n",
    "\n",
    "#Crée l'index Faiss\n",
    "index = faiss.IndexFlatL2(dimension)\n",
    "\n",
    "# Ajouter les IDs des chapitres à l'index FAISS\n",
    "index_with_ids = faiss.IndexIDMap(index)  # Permet d'ajouter des IDs personnalisés\n",
    "index_with_ids.add_with_ids(np.array(chap_embed, dtype=np.float32), np.array(new_ids, dtype=np.int64))\n",
    "\n",
    "faiss.write_index(index_with_ids, \"faiss_index_chapters.bin\")  # Sauvegarde"
   ]
  }
 ],
 "metadata": {
  "kernelspec": {
   "display_name": "venv_sisecamp",
   "language": "python",
   "name": "python3"
  },
  "language_info": {
   "codemirror_mode": {
    "name": "ipython",
    "version": 3
   },
   "file_extension": ".py",
   "mimetype": "text/x-python",
   "name": "python",
   "nbconvert_exporter": "python",
   "pygments_lexer": "ipython3",
   "version": "3.11.11"
  }
 },
 "nbformat": 4,
 "nbformat_minor": 2
}
